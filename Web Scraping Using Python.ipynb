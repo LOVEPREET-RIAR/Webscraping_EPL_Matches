{
 "cells": [
  {
   "cell_type": "markdown",
   "id": "8eccf076",
   "metadata": {},
   "source": [
    "# Webscraping Football Matches From The EPL"
   ]
  },
  {
   "cell_type": "code",
   "execution_count": null,
   "id": "e16add5a",
   "metadata": {},
   "outputs": [],
   "source": []
  },
  {
   "cell_type": "markdown",
   "id": "4cb5f804",
   "metadata": {},
   "source": [
    "## Objective:\n",
    "\n",
    "In this project, we will learn how to scrape football matches data from the English Premier League. First, we will download all of the matches played in several seasons with the help of Python and Requests library. After that, we will parse and clean our data using BeautifulSoup and Pandas libraries. By the end, we will have a single pandas dataframe with all of the EPL matches for different seasons."
   ]
  },
  {
   "cell_type": "code",
   "execution_count": null,
   "id": "4739ca49",
   "metadata": {},
   "outputs": [],
   "source": []
  },
  {
   "cell_type": "markdown",
   "id": "c2b7067d",
   "metadata": {},
   "source": [
    "## Scraping our first page with requests"
   ]
  },
  {
   "cell_type": "code",
   "execution_count": 1,
   "id": "15590422",
   "metadata": {},
   "outputs": [],
   "source": [
    "import requests"
   ]
  },
  {
   "cell_type": "code",
   "execution_count": 2,
   "id": "17beda36",
   "metadata": {},
   "outputs": [],
   "source": [
    "standings = \"https://fbref.com/en/comps/9/Primier-League-Stats\""
   ]
  },
  {
   "cell_type": "code",
   "execution_count": 3,
   "id": "15e91f3e",
   "metadata": {},
   "outputs": [],
   "source": [
    "data = requests.get(standings)"
   ]
  },
  {
   "cell_type": "code",
   "execution_count": 9,
   "id": "9b1e2d0a",
   "metadata": {},
   "outputs": [
    {
     "data": {
      "text/plain": [
       "'    \\n      \\n<!DOCTYPE html>\\n<html data-version=\"klecko-\" data-root=\"/home/fb/deploy/www/base\" itemscope itemtype=\"https://schema.org/WebSite\" lang=\"en\" class=\"no-js\" >\\n<head>\\n    <meta charset=\"utf-8\">\\n    <meta http-equiv=\"x-ua-compatible\" content=\"ie=edge\">\\n    <meta name=\"viewport\" content=\"width=device-width, initial-scale=1.0, maximum-scale=2.0\" />\\n    <link rel=\"dns-prefetch\" href=\"https://d2p3bygnnzw9w3.cloudfront.net/req/202204185\" />\\n    <!-- Quantcast Choice. Consent Manager Tag v2.0 (for TCF 2.0) -->\\n<script type=\"text/javascript\" async=true>\\n    (function() {\\n\\tvar host = window.location.hostname;\\n\\tvar element = document.createElement(\\'script\\');\\n\\tvar firstScript = document.getElementsByTagName(\\'script\\')[0];\\n\\tvar url = \\'https://quantcast.mgr.consensu.org\\'\\n\\t    .concat(\\'/choice/\\', \\'XwNYEpNeFfhfr\\', \\'/\\', host, \\'/choice.js\\')\\n\\tvar uspTries = 0;\\n\\tvar uspTriesLimit = 3;\\n\\telement.async = true;\\n\\telement.type = \\'text/javascript\\';\\n\\telement.src = url;\\n\\t\\n\\tfirstScript.parentNode.insertBefo'"
      ]
     },
     "execution_count": 9,
     "metadata": {},
     "output_type": "execute_result"
    }
   ],
   "source": [
    "data.text[:1000]"
   ]
  },
  {
   "cell_type": "code",
   "execution_count": null,
   "id": "9f6022bb",
   "metadata": {},
   "outputs": [],
   "source": []
  },
  {
   "cell_type": "markdown",
   "id": "693c2335",
   "metadata": {},
   "source": [
    "## Parsing html links with BeautifulSoup"
   ]
  },
  {
   "cell_type": "code",
   "execution_count": 10,
   "id": "915d1ad3",
   "metadata": {},
   "outputs": [],
   "source": [
    "from bs4 import BeautifulSoup"
   ]
  },
  {
   "cell_type": "code",
   "execution_count": 12,
   "id": "5bc791bc",
   "metadata": {},
   "outputs": [],
   "source": [
    "soup = BeautifulSoup(data.text)"
   ]
  },
  {
   "cell_type": "code",
   "execution_count": 13,
   "id": "84366ae3",
   "metadata": {},
   "outputs": [],
   "source": [
    "standings_table = soup.select(\"table.stats_table\")[0]"
   ]
  },
  {
   "cell_type": "code",
   "execution_count": 15,
   "id": "d8a8233a",
   "metadata": {},
   "outputs": [],
   "source": [
    "links = standings_table.find_all('a')"
   ]
  },
  {
   "cell_type": "code",
   "execution_count": 19,
   "id": "8d84652f",
   "metadata": {},
   "outputs": [
    {
     "data": {
      "text/plain": [
       "['/en/squads/b8fd03ef/Manchester-City-Stats',\n",
       " '/en/matches/c294f564/Burnley-Manchester-City-April-2-2022-Premier-League',\n",
       " '/en/matches/37e2fe92/Manchester-City-Liverpool-April-10-2022-Premier-League',\n",
       " '/en/matches/34fd93f9/Manchester-City-Brighton-and-Hove-Albion-April-20-2022-Premier-League',\n",
       " '/en/matches/af522ca3/Manchester-City-Watford-April-23-2022-Premier-League',\n",
       " '/en/matches/5ce80a04/Leeds-United-Manchester-City-April-30-2022-Premier-League',\n",
       " '/en/players/892d5bb1/Riyad-Mahrez',\n",
       " '/en/players/e46012d4/Kevin-De-Bruyne',\n",
       " '/en/players/3bb7b8b4/Ederson',\n",
       " '/en/squads/822bd0ba/Liverpool-Stats']"
      ]
     },
     "execution_count": 19,
     "metadata": {},
     "output_type": "execute_result"
    }
   ],
   "source": [
    "links = [l.get('href') for l in links]\n",
    "links[:10]"
   ]
  },
  {
   "cell_type": "code",
   "execution_count": 20,
   "id": "f90d30db",
   "metadata": {},
   "outputs": [
    {
     "data": {
      "text/plain": [
       "['/en/squads/b8fd03ef/Manchester-City-Stats',\n",
       " '/en/squads/822bd0ba/Liverpool-Stats',\n",
       " '/en/squads/cff3d9bb/Chelsea-Stats',\n",
       " '/en/squads/18bb7c10/Arsenal-Stats',\n",
       " '/en/squads/361ca564/Tottenham-Hotspur-Stats',\n",
       " '/en/squads/19538871/Manchester-United-Stats',\n",
       " '/en/squads/7c21e445/West-Ham-United-Stats',\n",
       " '/en/squads/8cec06e1/Wolverhampton-Wanderers-Stats',\n",
       " '/en/squads/d07537b9/Brighton-and-Hove-Albion-Stats',\n",
       " '/en/squads/b2b47a98/Newcastle-United-Stats',\n",
       " '/en/squads/a2d435b3/Leicester-City-Stats',\n",
       " '/en/squads/47c64c55/Crystal-Palace-Stats',\n",
       " '/en/squads/8602292d/Aston-Villa-Stats',\n",
       " '/en/squads/cd051869/Brentford-Stats',\n",
       " '/en/squads/33c895d4/Southampton-Stats',\n",
       " '/en/squads/943e8050/Burnley-Stats',\n",
       " '/en/squads/5bfb9659/Leeds-United-Stats',\n",
       " '/en/squads/d3fd31cc/Everton-Stats',\n",
       " '/en/squads/2abfe087/Watford-Stats',\n",
       " '/en/squads/1c781004/Norwich-City-Stats']"
      ]
     },
     "execution_count": 20,
     "metadata": {},
     "output_type": "execute_result"
    }
   ],
   "source": [
    "links = [l for l in links if \"/squads/\" in l]\n",
    "links"
   ]
  },
  {
   "cell_type": "code",
   "execution_count": 22,
   "id": "b8bf35b1",
   "metadata": {},
   "outputs": [
    {
     "data": {
      "text/plain": [
       "['https://fbref.com/en/squads/b8fd03ef/Manchester-City-Stats',\n",
       " 'https://fbref.com/en/squads/822bd0ba/Liverpool-Stats',\n",
       " 'https://fbref.com/en/squads/cff3d9bb/Chelsea-Stats',\n",
       " 'https://fbref.com/en/squads/18bb7c10/Arsenal-Stats',\n",
       " 'https://fbref.com/en/squads/361ca564/Tottenham-Hotspur-Stats',\n",
       " 'https://fbref.com/en/squads/19538871/Manchester-United-Stats',\n",
       " 'https://fbref.com/en/squads/7c21e445/West-Ham-United-Stats',\n",
       " 'https://fbref.com/en/squads/8cec06e1/Wolverhampton-Wanderers-Stats',\n",
       " 'https://fbref.com/en/squads/d07537b9/Brighton-and-Hove-Albion-Stats',\n",
       " 'https://fbref.com/en/squads/b2b47a98/Newcastle-United-Stats',\n",
       " 'https://fbref.com/en/squads/a2d435b3/Leicester-City-Stats',\n",
       " 'https://fbref.com/en/squads/47c64c55/Crystal-Palace-Stats',\n",
       " 'https://fbref.com/en/squads/8602292d/Aston-Villa-Stats',\n",
       " 'https://fbref.com/en/squads/cd051869/Brentford-Stats',\n",
       " 'https://fbref.com/en/squads/33c895d4/Southampton-Stats',\n",
       " 'https://fbref.com/en/squads/943e8050/Burnley-Stats',\n",
       " 'https://fbref.com/en/squads/5bfb9659/Leeds-United-Stats',\n",
       " 'https://fbref.com/en/squads/d3fd31cc/Everton-Stats',\n",
       " 'https://fbref.com/en/squads/2abfe087/Watford-Stats',\n",
       " 'https://fbref.com/en/squads/1c781004/Norwich-City-Stats']"
      ]
     },
     "execution_count": 22,
     "metadata": {},
     "output_type": "execute_result"
    }
   ],
   "source": [
    "team_urls = [f\"https://fbref.com{l}\" for l in links]\n",
    "team_urls"
   ]
  },
  {
   "cell_type": "code",
   "execution_count": null,
   "id": "0b4ecffd",
   "metadata": {},
   "outputs": [],
   "source": []
  }
 ],
 "metadata": {
  "kernelspec": {
   "display_name": "Python 3 (ipykernel)",
   "language": "python",
   "name": "python3"
  },
  "language_info": {
   "codemirror_mode": {
    "name": "ipython",
    "version": 3
   },
   "file_extension": ".py",
   "mimetype": "text/x-python",
   "name": "python",
   "nbconvert_exporter": "python",
   "pygments_lexer": "ipython3",
   "version": "3.9.7"
  }
 },
 "nbformat": 4,
 "nbformat_minor": 5
}
