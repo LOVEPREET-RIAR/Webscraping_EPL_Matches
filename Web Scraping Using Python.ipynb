{
 "cells": [
  {
   "cell_type": "markdown",
   "id": "f123bfe1",
   "metadata": {},
   "source": [
    "# Webscraping Football Matches From The EPL"
   ]
  },
  {
   "cell_type": "code",
   "execution_count": null,
   "id": "56d46ff0",
   "metadata": {},
   "outputs": [],
   "source": []
  },
  {
   "cell_type": "markdown",
   "id": "b5e1f0c9",
   "metadata": {},
   "source": [
    "## Objective:\n",
    "\n",
    "In this project, we will learn how to scrape football matches data from the English Premier League. First, we will download all of the matches played in several seasons with the help of Python and Requests library. After that, we will parse and clean our data using BeautifulSoup and Pandas libraries. By the end, we will have a single pandas dataframe with all of the EPL matches for different seasons."
   ]
  },
  {
   "cell_type": "code",
   "execution_count": null,
   "id": "3e0b0068",
   "metadata": {},
   "outputs": [],
   "source": []
  },
  {
   "cell_type": "code",
   "execution_count": null,
   "id": "f2e0ab16",
   "metadata": {},
   "outputs": [],
   "source": []
  }
 ],
 "metadata": {
  "kernelspec": {
   "display_name": "Python 3 (ipykernel)",
   "language": "python",
   "name": "python3"
  },
  "language_info": {
   "codemirror_mode": {
    "name": "ipython",
    "version": 3
   },
   "file_extension": ".py",
   "mimetype": "text/x-python",
   "name": "python",
   "nbconvert_exporter": "python",
   "pygments_lexer": "ipython3",
   "version": "3.9.7"
  }
 },
 "nbformat": 4,
 "nbformat_minor": 5
}
